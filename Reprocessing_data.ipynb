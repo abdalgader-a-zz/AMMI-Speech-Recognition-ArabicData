{
  "nbformat": 4,
  "nbformat_minor": 0,
  "metadata": {
    "kernelspec": {
      "display_name": "Python 3",
      "language": "python",
      "name": "python3"
    },
    "language_info": {
      "codemirror_mode": {
        "name": "ipython",
        "version": 3
      },
      "file_extension": ".py",
      "mimetype": "text/x-python",
      "name": "python",
      "nbconvert_exporter": "python",
      "pygments_lexer": "ipython3",
      "version": "3.7.3-final"
    },
    "colab": {
      "name": "Reprocessing_data.ipynb",
      "provenance": []
    }
  },
  "cells": [
    {
      "cell_type": "code",
      "metadata": {
        "id": "HE1poVfmnURm",
        "colab_type": "code",
        "colab": {
          "base_uri": "https://localhost:8080/",
          "height": 68
        },
        "outputId": "fa71ca81-8389-4a6a-8364-5f16ea0ab6f3"
      },
      "source": [
        "import os \n",
        "import nltk \n",
        "import wave \n",
        "from glob import glob \n",
        "swah = \"  : غ ظ ض ذ خ ث ت ش ر ق ص ف ع س ن م ل ك ي ط ح ز و ة ه د ج ب ا ى إ ء ئ آ ؤ , \"\" ـ ھ أ  \"\n",
        "# swah = \"A B C D E F G H I J K L M N O P R S T U V W Y Z \" \n",
        "#swah = 'a b d e f g h i j k l m n o p r s t v y z 0 1 2 3 4 5 6 7 8 9 à c q u w x ô ì ỳ òا' \n",
        "character_to_index = {j:i for i,j in enumerate(swah.split())} \n",
        "\n",
        "def remove_punct(text):\n",
        "    tokenizer = nltk.RegexpTokenizer(r\"\\w+\") \n",
        "    new_words = tokenizer.tokenize(text) \n",
        "    t = '' \n",
        "    for i in new_words: \n",
        "        t+= i+' ' \n",
        "    return t \n",
        "\n",
        "# path = '/home/safa/Documents/SR/Project/safa'\n",
        "path = \"/home/safa/Documents/SR/Project/safa\"\n",
        "# sessions = glob(\"data/*/*/file*.txt\")\n",
        "# linkers = glob(\"data/*/*/*linker.txt\")\n",
        "linkers = glob('/home/safa/Documents/SR/Project/safa/*_elicit/*_linker.txt')\n",
        "files = []\n",
        "for n in range(1,20,1):\n",
        "    info1 = glob(f'/home/safa/Documents/SR/Project/safa/*_elicit/*sr{n}.txt')\n",
        "    files.append(info1)\n",
        "\n",
        "sessions = []\n",
        "for file in files:\n",
        "    sessions.append(file[0])   \n",
        "\n",
        "print(len(sessions))\n",
        "print(len(linkers))\n",
        "# print('Session files:',len(sessions), 'Linker files:',len(linkers))\n",
        "print('Linker files:',len(linkers))\n",
        "\n",
        "all_session_text = open(path+'/all_sessions.txt', 'w') #os.path.abspath(os.getcwd()) + \n",
        "\n",
        "for linker, sess in zip(linkers, sessions):\n",
        "    sess_read = open(sess, 'r')\n",
        "    link_read = open(linker, 'r')\n",
        "    for link, sentence in zip(link_read.readlines(), sess_read.readlines()):\n",
        "        wav_name = os.path.basename(link).replace('\\n','')\n",
        "        wav_path = glob(\"/home/safa/Documents/SR/Project\" + \"/safa/*/{0}\".format(wav_name)) \n",
        "        # print(os.path.abspath(os.getcwd()))\n",
        "        # print(os.path.abspath(os.getcwd()))\n",
        "        if len(wav_path)==0: \n",
        "            continue \n",
        "        wav_path = wav_path[0] \n",
        "        try: \n",
        "            w = wave.open(wav_path, 'r') \n",
        "            d = w.readframes(w.getnframes()) \n",
        "        except: \n",
        "            print('corrupted audio: {0} -- skipped: '.format(wav_name)) \n",
        "            # uncomment if you want to delete the corrupted file \n",
        "            # os.remove(wav_path) \n",
        "            continue \n",
        "        indices = '' \n",
        "        sentence = sentence.replace('##', '') \n",
        "        sentence = remove_punct(sentence) \n",
        "        for c in sentence: \n",
        "            if not c.isspace(): \n",
        "                indices+=str(character_to_index[c.lower()]) + ' ' \n",
        "        \n",
        "        all_session_text.writelines(wav_name[:-4] + ' ' + indices + '\\n')"
      ],
      "execution_count": 2,
      "outputs": [
        {
          "output_type": "stream",
          "text": [
            "0\n",
            "0\n",
            "Linker files: 0\n"
          ],
          "name": "stdout"
        }
      ]
    },
    {
      "cell_type": "code",
      "metadata": {
        "id": "rgtwD4LCnURr",
        "colab_type": "code",
        "colab": {}
      },
      "source": [
        ""
      ],
      "execution_count": null,
      "outputs": []
    }
  ]
}